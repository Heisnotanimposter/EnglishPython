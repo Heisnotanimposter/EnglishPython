{
  "cells": [
    {
      "cell_type": "markdown",
      "metadata": {
        "id": "view-in-github",
        "colab_type": "text"
      },
      "source": [
        "<a href=\"https://colab.research.google.com/github/Heisnotanimposter/EnglishPython/blob/main/en_multi_lang_interpreter.ipynb\" target=\"_parent\"><img src=\"https://colab.research.google.com/assets/colab-badge.svg\" alt=\"Open In Colab\"/></a>"
      ]
    },
    {
      "cell_type": "code",
      "execution_count": null,
      "metadata": {
        "colab": {
          "background_save": true
        },
        "id": "zUlMSnE_LISr"
      },
      "outputs": [],
      "source": []
    },
    {
      "cell_type": "code",
      "execution_count": 2,
      "metadata": {
        "colab": {
          "base_uri": "https://localhost:8080/"
        },
        "id": "b6YErGKjGMh2",
        "outputId": "f84eb9bb-b1c8-4108-d863-33ebd54d3698"
      },
      "outputs": [
        {
          "output_type": "stream",
          "name": "stdout",
          "text": [
            "Enter the english text you want to translate: Amogus\n",
            "Translation to fr: Amoges\n",
            "Translation to es: Amogas\n",
            "Translation to de: Amogen\n",
            "Translation to it: Amogati\n",
            "Translation to pt: AMOGOS\n",
            "Translation to ru: АМОГОС\n",
            "Translation to zh: 爱情\n",
            "Translation to ja: アモグス\n",
            "Translation to ko: 아마추어\n",
            "Translation to ar: عشاق\n",
            "Translation to hi: अमिताभ\n"
          ]
        }
      ],
      "source": [
        "from transformers import pipeline, AutoTokenizer, AutoModelForSeq2SeqLM\n",
        "\n",
        "# 1. Load Pre-trained Model and Tokenizer\n",
        "model_name = \"facebook/m2m100_418M\"\n",
        "tokenizer = AutoTokenizer.from_pretrained(model_name)\n",
        "model = AutoModelForSeq2SeqLM.from_pretrained(model_name)\n",
        "\n",
        "# 2. Create Translation Pipeline\n",
        "translator = pipeline(\"translation\", model=model, tokenizer=tokenizer)\n",
        "\n",
        "# 3. Perform Translation to Multiple Target Languages\n",
        "text_to_translate = input(\"Enter the english text you want to translate: \")\n",
        "#source_language = input(\"Enter the source language code (e.g., 'en'): \")\n",
        "source_language = \"en\"\n",
        "target_languages = [\"fr\", \"es\", \"de\", \"it\", \"pt\", \"ru\", \"zh\", \"ja\", \"ko\", \"ar\", \"hi\"]\n",
        "\n",
        "for target_language in target_languages:\n",
        "  translated_text = translator(text_to_translate, src_lang=source_language, tgt_lang=target_language)\n",
        "  print(f\"Translation to {target_language}: {translated_text[0]['translation_text']}\")"
      ]
    },
    {
      "cell_type": "code",
      "execution_count": 1,
      "metadata": {
        "id": "Uj41Z6N9GRZk"
      },
      "outputs": [],
      "source": [
        "\n"
      ]
    },
    {
      "cell_type": "code",
      "execution_count": 1,
      "metadata": {
        "id": "ruUQKR7FLqW6"
      },
      "outputs": [],
      "source": []
    }
  ],
  "metadata": {
    "colab": {
      "provenance": [],
      "authorship_tag": "ABX9TyP7aQk7D6mrnvvsPTPoPo5J",
      "include_colab_link": true
    },
    "kernelspec": {
      "display_name": "Python 3",
      "name": "python3"
    },
    "language_info": {
      "name": "python"
    }
  },
  "nbformat": 4,
  "nbformat_minor": 0
}